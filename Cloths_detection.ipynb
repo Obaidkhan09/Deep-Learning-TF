{
  "nbformat": 4,
  "nbformat_minor": 0,
  "metadata": {
    "colab": {
      "name": "Cloths_detection.ipynb",
      "provenance": [],
      "collapsed_sections": [],
      "authorship_tag": "ABX9TyOh5wD8DPmSQ7ONSp+YOwJ9"
    },
    "kernelspec": {
      "name": "python3",
      "display_name": "Python 3"
    }
  },
  "cells": [
    {
      "cell_type": "markdown",
      "metadata": {
        "id": "xDuxCaiupych"
      },
      "source": [
        "# **Deep Neural Network**\n",
        "##Training A Model To Predict Cloths Category.(*fashion.mnist*)\n"
      ]
    },
    {
      "cell_type": "code",
      "metadata": {
        "id": "feyHFsZUwr7e",
        "colab": {
          "base_uri": "https://localhost:8080/",
          "height": 80
        },
        "outputId": "b8967c9a-fa5b-4c7d-9b09-92aece89adcf"
      },
      "source": [
        "import tensorflow as tf\n",
        "print(tf.__version__)"
      ],
      "execution_count": null,
      "outputs": [
        {
          "output_type": "display_data",
          "data": {
            "text/html": [
              "<p style=\"color: red;\">\n",
              "The default version of TensorFlow in Colab will soon switch to TensorFlow 2.x.<br>\n",
              "We recommend you <a href=\"https://www.tensorflow.org/guide/migrate\" target=\"_blank\">upgrade</a> now \n",
              "or ensure your notebook will continue to use TensorFlow 1.x via the <code>%tensorflow_version 1.x</code> magic:\n",
              "<a href=\"https://colab.research.google.com/notebooks/tensorflow_version.ipynb\" target=\"_blank\">more info</a>.</p>\n"
            ],
            "text/plain": [
              "<IPython.core.display.HTML object>"
            ]
          },
          "metadata": {
            "tags": []
          }
        },
        {
          "output_type": "stream",
          "text": [
            "1.15.0\n"
          ],
          "name": "stdout"
        }
      ]
    },
    {
      "cell_type": "code",
      "metadata": {
        "id": "AyPeaig1xK1g"
      },
      "source": [
        "mnist = tf.keras.datasets.fashion_mnist\n",
        "(training_images, training_labels), (testing_images, testing_labels) = mnist.load_data()"
      ],
      "execution_count": null,
      "outputs": []
    },
    {
      "cell_type": "code",
      "metadata": {
        "id": "TCAQm0RCyBBe",
        "colab": {
          "base_uri": "https://localhost:8080/",
          "height": 282
        },
        "outputId": "dc68d641-b754-421c-dd8b-a62094f98399"
      },
      "source": [
        "import matplotlib.pyplot as plt\n",
        "plt.imshow(training_images[0])\n",
        "print(training_labels[0])"
      ],
      "execution_count": null,
      "outputs": [
        {
          "output_type": "stream",
          "text": [
            "9\n"
          ],
          "name": "stdout"
        },
        {
          "output_type": "display_data",
          "data": {
            "image/png": "[encoded data removed]",
            "text/plain": [
              "<Figure size 432x288 with 1 Axes>"
            ]
          },
          "metadata": {
            "tags": []
          }
        }
      ]
    },
    {
      "cell_type": "code",
      "metadata": {
        "id": "0klcMgEyyPNh"
      },
      "source": [
        "training_images = training_images / 255\n",
        "testing_images = testing_images / 255\n",
        "#reduced between 0 to 1"
      ],
      "execution_count": null,
      "outputs": []
    },
    {
      "cell_type": "code",
      "metadata": {
        "id": "dexNZKcOzWfK"
      },
      "source": [
        "#Creating neural-network\n",
        "model = tf.keras.models.Sequential([\n",
        "                                    tf.keras.layers.Flatten(),\n",
        "                                    tf.keras.layers.Dense(128, activation = tf.nn.relu),\n",
        "                                    tf.keras.layers.Dense(10, activation = tf.nn.softmax)\n",
        "])\n",
        "#Flatten just takes 2 dimensional and turns it into a 1 dimensional set."
      ],
      "execution_count": null,
      "outputs": []
    },
    {
      "cell_type": "code",
      "metadata": {
        "id": "NrIXq5NC0ijO"
      },
      "source": [
        "model.compile(optimizer = 'adam',\n",
        "              loss = 'sparse_categorical_crossentropy',\n",
        "              metrics=['accuracy'])"
      ],
      "execution_count": null,
      "outputs": []
    },
    {
      "cell_type": "code",
      "metadata": {
        "id": "yXV1Qe5R4jJ2",
        "colab": {
          "base_uri": "https://localhost:8080/",
          "height": 462
        },
        "outputId": "3ca587d0-fc1f-4314-ae60-14fd02757427"
      },
      "source": [
        "model.fit(training_images, training_labels, epochs = 10)"
      ],
      "execution_count": null,
      "outputs": [
        {
          "output_type": "stream",
          "text": [
            "WARNING:tensorflow:From /usr/local/lib/python3.6/dist-packages/tensorflow_core/python/ops/resource_variable_ops.py:1630: calling BaseResourceVariable.__init__ (from tensorflow.python.ops.resource_variable_ops) with constraint is deprecated and will be removed in a future version.\n",
            "Instructions for updating:\n",
            "If using Keras pass *_constraint arguments to layers.\n",
            "Train on 60000 samples\n",
            "Epoch 1/10\n",
            "60000/60000 [==============================] - 4s 71us/sample - loss: 0.5017 - acc: 0.8237\n",
            "Epoch 2/10\n",
            "60000/60000 [==============================] - 4s 69us/sample - loss: 0.3772 - acc: 0.8627\n",
            "Epoch 3/10\n",
            "60000/60000 [==============================] - 4s 69us/sample - loss: 0.3368 - acc: 0.8781\n",
            "Epoch 4/10\n",
            "60000/60000 [==============================] - 4s 71us/sample - loss: 0.3117 - acc: 0.8856\n",
            "Epoch 5/10\n",
            "60000/60000 [==============================] - 4s 68us/sample - loss: 0.2951 - acc: 0.8911\n",
            "Epoch 6/10\n",
            "60000/60000 [==============================] - 4s 68us/sample - loss: 0.2796 - acc: 0.8968\n",
            "Epoch 7/10\n",
            "60000/60000 [==============================] - 4s 72us/sample - loss: 0.2680 - acc: 0.9004\n",
            "Epoch 8/10\n",
            "60000/60000 [==============================] - 4s 70us/sample - loss: 0.2581 - acc: 0.9042\n",
            "Epoch 9/10\n",
            "60000/60000 [==============================] - 4s 72us/sample - loss: 0.2467 - acc: 0.9083\n",
            "Epoch 10/10\n",
            "60000/60000 [==============================] - 4s 69us/sample - loss: 0.2402 - acc: 0.9099\n"
          ],
          "name": "stdout"
        },
        {
          "output_type": "execute_result",
          "data": {
            "text/plain": [
              "<tensorflow.python.keras.callbacks.History at 0x7f6bd6b19400>"
            ]
          },
          "metadata": {
            "tags": []
          },
          "execution_count": 7
        }
      ]
    },
    {
      "cell_type": "code",
      "metadata": {
        "id": "ypG3BFLJ7rEF",
        "colab": {
          "base_uri": "https://localhost:8080/",
          "height": 51
        },
        "outputId": "cf53e25d-000a-4963-9a5a-75136985936a"
      },
      "source": [
        "model.evaluate(testing_images, testing_labels)"
      ],
      "execution_count": null,
      "outputs": [
        {
          "output_type": "stream",
          "text": [
            "10000/10000 [==============================] - 0s 35us/sample - loss: 0.3316 - acc: 0.8836\n"
          ],
          "name": "stdout"
        },
        {
          "output_type": "execute_result",
          "data": {
            "text/plain": [
              "[0.33155285446047783, 0.8836]"
            ]
          },
          "metadata": {
            "tags": []
          },
          "execution_count": 8
        }
      ]
    },
    {
      "cell_type": "code",
      "metadata": {
        "id": "mVqnvQS78U7m",
        "colab": {
          "base_uri": "https://localhost:8080/",
          "height": 333
        },
        "outputId": "0810b194-4873-4d8f-add4-3e663a26b3a0"
      },
      "source": [
        "classification = model.predict(testing_images)\n",
        "print(classification[0])\n",
        "print(testing_labels[0])\n",
        "plt.imshow (testing_images[0])"
      ],
      "execution_count": null,
      "outputs": [
        {
          "output_type": "stream",
          "text": [
            "[3.9102236e-08 3.5028791e-10 1.4869451e-07 2.3137268e-09 1.8141295e-09\n",
            " 1.0034492e-04 5.4889885e-08 2.8088644e-02 9.8836942e-08 9.7181064e-01]\n",
            "9\n"
          ],
          "name": "stdout"
        },
        {
          "output_type": "execute_result",
          "data": {
            "text/plain": [
              "<matplotlib.image.AxesImage at 0x7f6bd02d9b70>"
            ]
          },
          "metadata": {
            "tags": []
          },
          "execution_count": 9
        },
        {
          "output_type": "display_data",
          "data": {
            "image/png": "[encoded data removed]",
            "text/plain": [
              "<Figure size 432x288 with 1 Axes>"
            ]
          },
          "metadata": {
            "tags": []
          }
        }
      ]
    },
    {
      "cell_type": "code",
      "metadata": {
        "id": "Fe3gh5SPsldk"
      },
      "source": [
        ""
      ],
      "execution_count": null,
      "outputs": []
    }
  ]
}